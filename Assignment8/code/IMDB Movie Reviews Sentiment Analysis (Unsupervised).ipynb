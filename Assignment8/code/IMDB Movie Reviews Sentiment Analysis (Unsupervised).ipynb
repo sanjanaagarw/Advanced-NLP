{
 "cells": [
  {
   "cell_type": "code",
   "execution_count": 107,
   "metadata": {
    "collapsed": true
   },
   "outputs": [],
   "source": [
    "import pandas as pd\n",
    "import os\n",
    "from nltk.corpus import stopwords\n",
    "import nltk.data\n",
    "import logging\n",
    "import numpy as np  # Make sure that numpy is imported\n",
    "from gensim.models import Word2Vec\n",
    "from sklearn.ensemble import RandomForestClassifier \n",
    "from bs4 import BeautifulSoup\n",
    "import re\n",
    "from nltk.corpus import stopwords"
   ]
  },
  {
   "cell_type": "code",
   "execution_count": 108,
   "metadata": {
    "collapsed": true
   },
   "outputs": [],
   "source": [
    "import warnings\n",
    "warnings.filterwarnings('ignore')"
   ]
  },
  {
   "cell_type": "code",
   "execution_count": 109,
   "metadata": {
    "collapsed": true
   },
   "outputs": [],
   "source": [
    "#Loading Test Datasets \n",
    "train = pd.read_csv(\"./data/labeledTrainData.tsv\",header=0,delimiter=\"\\t\",quoting=3)\n",
    "unlabeled_train = pd.read_csv(\"./data/unlabeledTrainData.tsv\",header=0,delimiter=\"\\t\",quoting=3)\n",
    "test = pd.read_csv(\"./data/testData.tsv\",header=0,delimiter=\"\\t\",quoting=3)"
   ]
  },
  {
   "cell_type": "code",
   "execution_count": 110,
   "metadata": {
    "collapsed": false
   },
   "outputs": [
    {
     "name": "stdout",
     "output_type": "stream",
     "text": [
      "100000\n"
     ]
    }
   ],
   "source": [
    "#checking size of Dataset  \n",
    "print(len(train[\"review\"])+len(unlabeled_train[\"review\"])+len(test[\"review\"]))"
   ]
  },
  {
   "cell_type": "markdown",
   "metadata": {},
   "source": [
    "100,000 total reviews out of which 25,000 is test set"
   ]
  },
  {
   "cell_type": "code",
   "execution_count": 111,
   "metadata": {
    "collapsed": true
   },
   "outputs": [],
   "source": [
    "def review_to_wordlist( review, remove_stopwords=False ):\n",
    "    # Function to convert a document to a sequence of words,\n",
    "    # optionally removing stop words.  Returns a list of words.\n",
    "    #\n",
    "    # 1. Remove HTML\n",
    "    review_text = BeautifulSoup(review,\"lxml\").get_text()\n",
    "    #  \n",
    "    # 2. Remove non-letters\n",
    "    review_text = re.sub(\"[^a-zA-Z]\",\" \", review_text)\n",
    "    #\n",
    "    # 3. Convert words to lower case and split them\n",
    "    words = review_text.lower().split()\n",
    "    #\n",
    "    # 4. Optionally remove stop words (false by default)\n",
    "    if remove_stopwords:\n",
    "        stops = set(stopwords.words(\"english\"))\n",
    "        words = [w for w in words if not w in stops]\n",
    "    #\n",
    "    # 5. Return a list of words\n",
    "    return(words) "
   ]
  },
  {
   "cell_type": "code",
   "execution_count": 7,
   "metadata": {
    "collapsed": true
   },
   "outputs": [],
   "source": [
    "\n",
    "\n",
    "# Define a function to split a review into parsed sentences\n",
    "def review_to_sentences( review, tokenizer, remove_stopwords=False ):\n",
    "    # Function to split a review into parsed sentences. Returns a \n",
    "    # list of sentences, where each sentence is a list of words\n",
    "    #\n",
    "    # 1. Use the NLTK tokenizer to split the paragraph into sentences\n",
    "    raw_sentences = tokenizer.tokenize(review.strip())\n",
    "    #\n",
    "    # 2. Loop over each sentence\n",
    "    sentences = []\n",
    "    for raw_sentence in raw_sentences:\n",
    "        # If a sentence is empty, skip it\n",
    "        if len(raw_sentence) > 0:\n",
    "            # Otherwise, call review_to_wordlist to get a list of words\n",
    "            sentences.append( review_to_wordlist( raw_sentence, \\\n",
    "              remove_stopwords ))\n",
    "    #\n",
    "    # Return the list of sentences (each sentence is a list of words,\n",
    "    # so this returns a list of lists\n",
    "    return sentences "
   ]
  },
  {
   "cell_type": "code",
   "execution_count": 112,
   "metadata": {
    "collapsed": false
   },
   "outputs": [
    {
     "name": "stdout",
     "output_type": "stream",
     "text": [
      "Parsing sentences from training set\n",
      "Parsing sentences from unlabeled set\n"
     ]
    }
   ],
   "source": [
    "# Load the punkt tokenizer\n",
    "tokenizer = nltk.data.load('tokenizers/punkt/english.pickle')\n",
    "\n",
    "sentences = []  # Initialize an empty list of sentences\n",
    "\n",
    "print(\"Parsing sentences from training set\")\n",
    "for review in train[\"review\"]:\n",
    "    sentences += review_to_sentences(review, tokenizer)\n",
    "\n",
    "print(\"Parsing sentences from unlabeled set\")\n",
    "for review in unlabeled_train[\"review\"]:\n",
    "    sentences += review_to_sentences(review, tokenizer)\n",
    "\n"
   ]
  },
  {
   "cell_type": "code",
   "execution_count": 113,
   "metadata": {
    "collapsed": false
   },
   "outputs": [
    {
     "name": "stdout",
     "output_type": "stream",
     "text": [
      "795538\n"
     ]
    }
   ],
   "source": [
    "print(len(sentences))"
   ]
  },
  {
   "cell_type": "code",
   "execution_count": 114,
   "metadata": {
    "collapsed": false
   },
   "outputs": [
    {
     "name": "stdout",
     "output_type": "stream",
     "text": [
      "Training model...\n"
     ]
    }
   ],
   "source": [
    "# Import the built-in logging module and configure it so that Word2Vec \n",
    "# creates nice output messages\n",
    "import logging\n",
    "logging.basicConfig(format='%(asctime)s : %(levelname)s : %(message)s',\\\n",
    "    level=logging.INFO)\n",
    "\n",
    "# Set values for various parameters\n",
    "num_features = 300    # Word vector dimensionality                      \n",
    "min_word_count = 40   # Minimum word count                        \n",
    "num_workers = 4       # Number of threads to run in parallel\n",
    "context = 10          # Context window size                                                                                    \n",
    "downsampling = 1e-3   # Downsample setting for frequent words\n",
    "\n",
    "# Initialize and train the model (this will take some time)\n",
    "from gensim.models import word2vec\n",
    "print(\"Training model...\")\n",
    "model = word2vec.Word2Vec(sentences, workers=num_workers, \\\n",
    "            size=num_features, min_count = min_word_count, \\\n",
    "            window = context, sample = downsampling)\n",
    "\n",
    "# If you don't plan to train the model any further, calling \n",
    "# init_sims will make the model much more memory-efficient.\n",
    "model.init_sims(replace=True)\n",
    "\n",
    "# It can be helpful to create a meaningful model name and \n",
    "# save the model for later use. You can load it later using Word2Vec.load()\n",
    "model_name = \"300features_40minwords_10context\"\n",
    "model.save(model_name) "
   ]
  },
  {
   "cell_type": "code",
   "execution_count": 115,
   "metadata": {
    "collapsed": false
   },
   "outputs": [
    {
     "data": {
      "text/plain": [
       "[('woman', 0.612058162689209),\n",
       " ('lady', 0.5854551196098328),\n",
       " ('lad', 0.5561214685440063),\n",
       " ('monk', 0.5500044822692871),\n",
       " ('boy', 0.525436520576477),\n",
       " ('guy', 0.5210829973220825),\n",
       " ('chap', 0.5168739557266235),\n",
       " ('farmer', 0.5157365202903748),\n",
       " ('men', 0.5148264169692993),\n",
       " ('soldier', 0.5121333599090576)]"
      ]
     },
     "execution_count": 115,
     "metadata": {},
     "output_type": "execute_result"
    }
   ],
   "source": [
    "model.most_similar(\"man\")"
   ]
  },
  {
   "cell_type": "code",
   "execution_count": 116,
   "metadata": {
    "collapsed": false
   },
   "outputs": [
    {
     "data": {
      "text/plain": [
       "[('princess', 0.6477822065353394),\n",
       " ('bride', 0.6134942173957825),\n",
       " ('victoria', 0.5962779521942139),\n",
       " ('showgirl', 0.5875634551048279),\n",
       " ('belle', 0.5832908153533936),\n",
       " ('stepmother', 0.5819955468177795),\n",
       " ('eva', 0.577735424041748),\n",
       " ('maid', 0.5742698907852173),\n",
       " ('regina', 0.5687487125396729),\n",
       " ('kristel', 0.5616047382354736)]"
      ]
     },
     "execution_count": 116,
     "metadata": {},
     "output_type": "execute_result"
    }
   ],
   "source": [
    "model.most_similar(\"queen\")"
   ]
  },
  {
   "cell_type": "code",
   "execution_count": 117,
   "metadata": {
    "collapsed": false
   },
   "outputs": [
    {
     "data": {
      "text/plain": [
       "'kitchen'"
      ]
     },
     "execution_count": 117,
     "metadata": {},
     "output_type": "execute_result"
    }
   ],
   "source": [
    "model.doesnt_match(\"man woman child kitchen\".split())\n"
   ]
  },
  {
   "cell_type": "code",
   "execution_count": 118,
   "metadata": {
    "collapsed": false
   },
   "outputs": [
    {
     "data": {
      "text/plain": [
       "'berlin'"
      ]
     },
     "execution_count": 118,
     "metadata": {},
     "output_type": "execute_result"
    }
   ],
   "source": [
    "model.doesnt_match(\"france england germany berlin\".split())"
   ]
  },
  {
   "cell_type": "code",
   "execution_count": 119,
   "metadata": {
    "collapsed": false
   },
   "outputs": [
    {
     "data": {
      "text/plain": [
       "'austria'"
      ]
     },
     "execution_count": 119,
     "metadata": {},
     "output_type": "execute_result"
    }
   ],
   "source": [
    "model.doesnt_match(\"Zoya berlin london austria\".split())"
   ]
  },
  {
   "cell_type": "code",
   "execution_count": 120,
   "metadata": {
    "collapsed": false
   },
   "outputs": [
    {
     "data": {
      "text/plain": [
       "[('terrible', 0.7705107927322388),\n",
       " ('horrible', 0.7305666208267212),\n",
       " ('atrocious', 0.7290143966674805),\n",
       " ('abysmal', 0.7157675623893738),\n",
       " ('dreadful', 0.7105789184570312),\n",
       " ('appalling', 0.6870583891868591),\n",
       " ('horrendous', 0.6789425015449524),\n",
       " ('horrid', 0.6385958194732666),\n",
       " ('amateurish', 0.6287796497344971),\n",
       " ('lousy', 0.6039535403251648)]"
      ]
     },
     "execution_count": 120,
     "metadata": {},
     "output_type": "execute_result"
    }
   ],
   "source": [
    "model.most_similar(\"awful\")"
   ]
  },
  {
   "cell_type": "code",
   "execution_count": 121,
   "metadata": {
    "collapsed": false
   },
   "outputs": [
    {
     "data": {
      "text/plain": [
       "(16490, 300)"
      ]
     },
     "execution_count": 121,
     "metadata": {},
     "output_type": "execute_result"
    }
   ],
   "source": [
    "model.syn0.shape"
   ]
  },
  {
   "cell_type": "markdown",
   "metadata": {},
   "source": [
    "The number of rows in syn0 is the number of words in the model's vocabularl, and the number of columns corresponds to the size of the feature vectore, which we set in Part2. Setting the minimum word count to 40 gave us a total vocabularly of 16,492 words with 300 feature apiece. "
   ]
  },
  {
   "cell_type": "code",
   "execution_count": 122,
   "metadata": {
    "collapsed": false
   },
   "outputs": [
    {
     "data": {
      "text/plain": [
       "array([ 0.01139142,  0.03010188,  0.05542311, -0.04067303,  0.0245908 ,\n",
       "       -0.01058377,  0.12768008, -0.01556714, -0.03268285, -0.07448141,\n",
       "        0.04596307,  0.04924469, -0.00575278, -0.00780511,  0.01648034,\n",
       "       -0.05519637,  0.04220185, -0.04801417,  0.03341379, -0.04681101,\n",
       "        0.0461699 , -0.06256   ,  0.05420063, -0.04261733,  0.00258828,\n",
       "        0.02086867,  0.00452781,  0.06171165, -0.05630255,  0.0148612 ,\n",
       "       -0.04682961,  0.09298653, -0.01528321,  0.05393535, -0.10343533,\n",
       "        0.00228477,  0.03131061,  0.07139163, -0.00125286, -0.09141771,\n",
       "        0.04023457,  0.00287645, -0.04564029,  0.05561365, -0.02993594,\n",
       "       -0.00360389, -0.02187949,  0.04369891,  0.01412906,  0.05241794,\n",
       "       -0.09993239,  0.03676849,  0.07900926,  0.07839028, -0.03541839,\n",
       "        0.00170283, -0.22913581,  0.09532517,  0.10355403, -0.06231165,\n",
       "       -0.00648718,  0.0689905 ,  0.04212997, -0.0203238 ,  0.0009045 ,\n",
       "        0.01728283, -0.0914805 , -0.13602796,  0.02202323,  0.02443579,\n",
       "       -0.05465474, -0.12573524,  0.06709645,  0.00749919, -0.06388138,\n",
       "        0.01411473,  0.10748918,  0.07520103,  0.09135272,  0.09393071,\n",
       "       -0.05130306,  0.01944832, -0.03532954,  0.02403202, -0.10621192,\n",
       "       -0.05309927,  0.01591621, -0.04741652, -0.00670244,  0.03329747,\n",
       "       -0.05557797,  0.01490537,  0.03059684,  0.0205087 , -0.09257849,\n",
       "        0.01950257,  0.06525268, -0.0107964 , -0.06337543, -0.05103271,\n",
       "        0.04113802,  0.05132049, -0.10687941, -0.03145254, -0.07325442,\n",
       "       -0.05807332, -0.03317153,  0.0413909 ,  0.00149485, -0.05263652,\n",
       "       -0.00208022, -0.00025238,  0.08513994,  0.00269468,  0.07533991,\n",
       "       -0.03306122, -0.00744297,  0.09082174,  0.09256469, -0.06426175,\n",
       "        0.00662858, -0.04912696,  0.02502473, -0.05909461, -0.01644827,\n",
       "       -0.01145144, -0.01259077, -0.04809442, -0.07112171, -0.06070627,\n",
       "        0.03188216, -0.02943085,  0.02675804, -0.02164882,  0.13591646,\n",
       "       -0.04737086, -0.12945437,  0.05782832, -0.0160903 ,  0.05312417,\n",
       "       -0.06806035, -0.09508333,  0.01044136,  0.00670696, -0.05105907,\n",
       "       -0.04935624, -0.1846216 ,  0.02831111,  0.02097217,  0.03352682,\n",
       "        0.05056737,  0.05268214,  0.03136961, -0.01458805, -0.03658318,\n",
       "        0.04140082, -0.01400206,  0.01855635, -0.02369495, -0.00431917,\n",
       "       -0.06846265,  0.02338158, -0.00232637, -0.106582  ,  0.06995869,\n",
       "       -0.04306188, -0.05902233,  0.02022216, -0.00458354,  0.04263284,\n",
       "        0.04967581, -0.01851702, -0.02531194,  0.01800572, -0.06320728,\n",
       "        0.08388426, -0.01521112, -0.01578118, -0.03045304, -0.04830487,\n",
       "        0.05149886, -0.04004918,  0.01440238, -0.07983577,  0.01087304,\n",
       "        0.01560547, -0.03084136,  0.03160028, -0.07116893, -0.02265315,\n",
       "       -0.02233407, -0.13463664,  0.00723073,  0.03639912,  0.02365076,\n",
       "       -0.06759618,  0.0788497 ,  0.04333222, -0.0691831 , -0.03304401,\n",
       "        0.02204891, -0.10625067, -0.00924956,  0.08389404,  0.02983965,\n",
       "       -0.02101146, -0.08557773, -0.02187468,  0.04576739, -0.14213434,\n",
       "        0.01573819,  0.01642352,  0.08260342,  0.10451019, -0.11739881,\n",
       "        0.03869841, -0.05447989, -0.02091192, -0.02269169, -0.05125417,\n",
       "        0.03213188, -0.014693  ,  0.02183081, -0.05155554,  0.06884275,\n",
       "        0.14490461, -0.10349473, -0.00222713, -0.00453682, -0.03200534,\n",
       "       -0.02073328,  0.05433039,  0.00269524, -0.04732982,  0.0014593 ,\n",
       "        0.03742034,  0.06071777, -0.03745508,  0.02486617, -0.03642565,\n",
       "        0.01266056,  0.06399842,  0.13147075, -0.01204516,  0.05929646,\n",
       "       -0.05239275, -0.01266294, -0.09898784,  0.07424868,  0.06112925,\n",
       "       -0.01026873, -0.02533642, -0.04433683, -0.04797845,  0.03596192,\n",
       "       -0.11949589, -0.02040929, -0.0122168 , -0.06159193, -0.00223939,\n",
       "       -0.01258328, -0.01480849,  0.06223505,  0.07118215,  0.0740129 ,\n",
       "       -0.04344824,  0.03846707, -0.00690482,  0.01572683,  0.04438229,\n",
       "       -0.10923932,  0.06340321, -0.02680879,  0.04883745, -0.04864785,\n",
       "       -0.03509342, -0.00619568, -0.0474626 ,  0.01625652,  0.04756902,\n",
       "        0.02872462, -0.01438047,  0.10397713, -0.02848319,  0.0956625 ,\n",
       "       -0.04135248,  0.02271702, -0.06395514, -0.00991099,  0.16223632,\n",
       "        0.06027552,  0.00125806, -0.01371052, -0.04072134,  0.01675616,\n",
       "       -0.00781151, -0.08313167,  0.01103184,  0.04721479, -0.00246189], dtype=float32)"
      ]
     },
     "execution_count": 122,
     "metadata": {},
     "output_type": "execute_result"
    }
   ],
   "source": [
    "model[\"man\"]"
   ]
  },
  {
   "cell_type": "markdown",
   "metadata": {},
   "source": [
    "### From Words to Paragraphs,Attempt 1: Vector Averaging "
   ]
  },
  {
   "cell_type": "markdown",
   "metadata": {},
   "source": [
    "One challenge with the IMDB dataset is the variable-lenght reviews. We need to find a way to take individual word vectors and transform them into a **feature set that is the same length for every review**  "
   ]
  },
  {
   "cell_type": "markdown",
   "metadata": {},
   "source": [
    "Since each word is a vector in 300-dimensional space, we can use vector operations to combine the words in each review. **One method was to simply average the word vectors in a given review**  "
   ]
  },
  {
   "cell_type": "code",
   "execution_count": 123,
   "metadata": {
    "collapsed": false
   },
   "outputs": [],
   "source": [
    "import numpy as np  # Make sure that numpy is imported\n",
    "\n",
    "def makeFeatureVec(words, model, num_features):\n",
    "    # Function to average all of the word vectors in a given\n",
    "    # paragraph\n",
    "    #\n",
    "    # Pre-initialize an empty numpy array (for speed)\n",
    "    featureVec = np.zeros((num_features,),dtype=\"float32\")\n",
    "    #\n",
    "    nwords = 0.\n",
    "    # \n",
    "    # Index2word is a list that contains the names of the words in \n",
    "    # the model's vocabulary. Convert it to a set, for speed \n",
    "    index2word_set = set(model.index2word)\n",
    "    #\n",
    "    # Loop over each word in the review and, if it is in the model's\n",
    "    # vocaublary, add its feature vector to the total\n",
    "    for word in words:\n",
    "        if word in index2word_set: \n",
    "            nwords = nwords + 1.\n",
    "            featureVec = np.add(featureVec,model[word])\n",
    "    # \n",
    "    # Divide the result by the number of words to get the average\n",
    "    featureVec = np.divide(featureVec,nwords)\n",
    "    return featureVec\n",
    "\n",
    "\n",
    "def getAvgFeatureVecs(reviews, model, num_features):\n",
    "    # Given a set of reviews (each review a list of words), calculate \n",
    "    # the average feature vector for each one and return a 2D numpy array \n",
    "    # \n",
    "    # Initialize a counter\n",
    "    counter = 0.\n",
    "    # \n",
    "    # Preallocate a 2D numpy array, for speed\n",
    "    reviewFeatureVecs = np.zeros((len(reviews),num_features),dtype=\"float32\")\n",
    "    # \n",
    "    # Loop through the reviews\n",
    "    for review in reviews:\n",
    "        #\n",
    "        # Print a status message every 1000th review\n",
    "        if counter%1000. == 0.:\n",
    "            print(\"Review %d of %d\" % (counter, len(reviews)))\n",
    "\n",
    "        # Call the function (defined above) that makes average feature vectors\n",
    "        reviewFeatureVecs[counter] = makeFeatureVec(review, model, \\\n",
    "               num_features)\n",
    "\n",
    "        # Increment the counter\n",
    "        counter = counter + 1.\n",
    "    return reviewFeatureVecs"
   ]
  },
  {
   "cell_type": "code",
   "execution_count": 124,
   "metadata": {
    "collapsed": false
   },
   "outputs": [
    {
     "name": "stdout",
     "output_type": "stream",
     "text": [
      "Review 0 of 25000\n",
      "Review 1000 of 25000\n",
      "Review 2000 of 25000\n",
      "Review 3000 of 25000\n",
      "Review 4000 of 25000\n",
      "Review 5000 of 25000\n",
      "Review 6000 of 25000\n",
      "Review 7000 of 25000\n",
      "Review 8000 of 25000\n",
      "Review 9000 of 25000\n",
      "Review 10000 of 25000\n",
      "Review 11000 of 25000\n",
      "Review 12000 of 25000\n",
      "Review 13000 of 25000\n",
      "Review 14000 of 25000\n",
      "Review 15000 of 25000\n",
      "Review 16000 of 25000\n",
      "Review 17000 of 25000\n",
      "Review 18000 of 25000\n",
      "Review 19000 of 25000\n",
      "Review 20000 of 25000\n",
      "Review 21000 of 25000\n",
      "Review 22000 of 25000\n",
      "Review 23000 of 25000\n",
      "Review 24000 of 25000\n",
      "Creating average feature vecs for test reviews\n",
      "Review 0 of 25000\n",
      "Review 1000 of 25000\n",
      "Review 2000 of 25000\n",
      "Review 3000 of 25000\n",
      "Review 4000 of 25000\n",
      "Review 5000 of 25000\n",
      "Review 6000 of 25000\n",
      "Review 7000 of 25000\n",
      "Review 8000 of 25000\n",
      "Review 9000 of 25000\n",
      "Review 10000 of 25000\n",
      "Review 11000 of 25000\n",
      "Review 12000 of 25000\n",
      "Review 13000 of 25000\n",
      "Review 14000 of 25000\n",
      "Review 15000 of 25000\n",
      "Review 16000 of 25000\n",
      "Review 17000 of 25000\n",
      "Review 18000 of 25000\n",
      "Review 19000 of 25000\n",
      "Review 20000 of 25000\n",
      "Review 21000 of 25000\n",
      "Review 22000 of 25000\n",
      "Review 23000 of 25000\n",
      "Review 24000 of 25000\n"
     ]
    }
   ],
   "source": [
    "# ****************************************************************\n",
    "# Calculate average feature vectors for training and testing sets,\n",
    "# using the functions we defined above. Notice that we now use stop word\n",
    "# removal.\n",
    "\n",
    "clean_train_reviews = []\n",
    "for review in train[\"review\"]:\n",
    "    clean_train_reviews.append( review_to_wordlist( review, \\\n",
    "        remove_stopwords=True ))\n",
    "\n",
    "trainDataVecs = getAvgFeatureVecs( clean_train_reviews, model, num_features )\n",
    "\n",
    "print(\"Creating average feature vecs for test reviews\")\n",
    "clean_test_reviews = []\n",
    "for review in test[\"review\"]:\n",
    "    clean_test_reviews.append( review_to_wordlist( review, \\\n",
    "        remove_stopwords=True ))\n",
    "\n",
    "testDataVecs = getAvgFeatureVecs( clean_test_reviews, model, num_features )"
   ]
  },
  {
   "cell_type": "code",
   "execution_count": 125,
   "metadata": {
    "collapsed": false
   },
   "outputs": [
    {
     "name": "stdout",
     "output_type": "stream",
     "text": [
      "Fitting a random forest to labeled training data...\n"
     ]
    }
   ],
   "source": [
    "# Fit a random forest to the training data, using 100 trees\n",
    "from sklearn.ensemble import RandomForestClassifier\n",
    "forest = RandomForestClassifier( n_estimators = 100 )\n",
    "\n",
    "print(\"Fitting a random forest to labeled training data...\") \n",
    "forest = forest.fit( trainDataVecs, train[\"sentiment\"] )\n",
    "\n",
    "# Test & extract results \n",
    "result = forest.predict( testDataVecs )\n",
    "\n",
    "# Write the test results \n",
    "output = pd.DataFrame( data={\"id\":test[\"id\"], \"sentiment\":result} )\n",
    "output.to_csv( \"rf_Word2Vec_AverageVectors.csv\", index=False, quoting=3 )"
   ]
  },
  {
   "cell_type": "markdown",
   "metadata": {},
   "source": [
    "![](./data/rf_word2vec_average_vector.png)"
   ]
  },
  {
   "cell_type": "code",
   "execution_count": 126,
   "metadata": {
    "collapsed": false
   },
   "outputs": [
    {
     "name": "stdout",
     "output_type": "stream",
     "text": [
      "Fitting a Logsitic Regression model to labeled training data...\n"
     ]
    }
   ],
   "source": [
    "# Fit a Logistic Regression to the training data, using 100 trees\n",
    "from sklearn.linear_model import LogisticRegression \n",
    "lr = LogisticRegression() \n",
    "\n",
    "print(\"Fitting a Logsitic Regression model to labeled training data...\") \n",
    "lr = lr.fit( trainDataVecs, train[\"sentiment\"] )\n",
    "\n",
    "# Test & extract results \n",
    "result = lr.predict( testDataVecs )\n",
    "\n",
    "# Write the test results \n",
    "output = pd.DataFrame( data={\"id\":test[\"id\"], \"sentiment\":result} )\n",
    "output.to_csv( \"lr_Word2Vec_AverageVector.csv\", index=False, quoting=3 )"
   ]
  },
  {
   "cell_type": "markdown",
   "metadata": {},
   "source": [
    "![](./data/lr_word2Vec_averagee_vector.png)"
   ]
  },
  {
   "cell_type": "markdown",
   "metadata": {},
   "source": [
    "This approach produced results much better than chance , but underperformed Bag of Words by a few percentage points.  \n",
    "\n",
    "Since the elements-wise average of the vectors didn't produce spectacular results, perhaps we could do it in a more intelligent way. \n",
    "A standard way of weighting word vectors is to apply \"tf-idf\" weights,which measures how important a given word is within a given set of documents. One way to extract tf-idf weights in python is by using scikit-learn's TfidfVectorizer,. When we tried weighting our word vectors in this way,we found no substantial improvement in performance."
   ]
  },
  {
   "cell_type": "markdown",
   "metadata": {},
   "source": [
    "### From Words to Paragraphs, Attempt 2: Clustering "
   ]
  },
  {
   "cell_type": "markdown",
   "metadata": {},
   "source": [
    "Word2Vec creates clusters of semantically related words,so another possible approach is to exploit the similarity of words within a cluster. Grouping vectors in this way is known as \"Vector Quantization\". To accomplish this,we first need to find the centers of the word clusters,which we can do by using a clustering algorithm such as K-means"
   ]
  },
  {
   "cell_type": "markdown",
   "metadata": {},
   "source": [
    "In K_Means , the one parameter we need to set is \"K\",or the number of clusters.How should we decide how many clusters to create? Trial and error suggested that small clusters,with an average of only 5 words or so per cluster ,gave better results than large clusters with many words. "
   ]
  },
  {
   "cell_type": "code",
   "execution_count": 127,
   "metadata": {
    "collapsed": false
   },
   "outputs": [
    {
     "name": "stdout",
     "output_type": "stream",
     "text": [
      "3298\n",
      "Time taken for K Means clustering:  738.3951489925385 seconds\n"
     ]
    }
   ],
   "source": [
    "from sklearn.cluster import KMeans \n",
    "import time \n",
    "\n",
    "start = time.time() \n",
    "# Set \"K\" (num_clusters) to be 1/5th of the Vocabulary size, or an average of 5 words per cluster\n",
    "word_vectors = model.syn0 \n",
    "num_clusters = int(word_vectors.shape[0]/5)\n",
    "print(num_clusters)\n",
    "# Initialize a K-means object and use it to extract centroids \n",
    "kmeans_clustering = KMeans(n_clusters = num_clusters) \n",
    "idx = kmeans_clustering.fit_predict(word_vectors)  \n",
    "\n",
    "#Get the end time and print how long the process took \n",
    "end = time.time()\n",
    "elapsed = end - start  \n",
    "print(\"Time taken for K Means clustering: \",elapsed,\"seconds\")"
   ]
  },
  {
   "cell_type": "markdown",
   "metadata": {},
   "source": [
    "The cluster assignment for each word is now stored in idx,and the vocabulary from our original Word2Vec model is still stored in model.index2word . For convenience we ,zip these into one dictionary as follows:"
   ]
  },
  {
   "cell_type": "code",
   "execution_count": 83,
   "metadata": {
    "collapsed": false
   },
   "outputs": [],
   "source": [
    "#create a Word / index dictionary , maooing each vocabulary word to a cluster number \n",
    "\n",
    "word_centroid_map = dict(zip(model.index2word,idx))"
   ]
  },
  {
   "cell_type": "markdown",
   "metadata": {},
   "source": [
    "This is a little abstract ,so let's take a closer look at what our clusters contain. Your clusters may differ, as Word2Vec relies on a random number seed. Here is a loop that prints out the words for cluster 0 through 9 "
   ]
  },
  {
   "cell_type": "code",
   "execution_count": 128,
   "metadata": {
    "collapsed": false,
    "scrolled": true
   },
   "outputs": [
    {
     "name": "stdout",
     "output_type": "stream",
     "text": [
      "\n",
      "Cluster 0\n",
      "['training']\n",
      "\n",
      "Cluster 1\n",
      "['jolly', 'elf', 'legged', 'merry']\n",
      "\n",
      "Cluster 2\n",
      "['degradation', 'unspeakable', 'perpetual']\n",
      "\n",
      "Cluster 3\n",
      "['biographical', 'somerset', 'sleuth', 'maugham', 'excalibur', 'adapted', 'originated', 'deathtrap', 'steinbeck', 'hellman', 'masterwork', 'prose', 'macbeth', 'hammett', 'novella']\n",
      "\n",
      "Cluster 4\n",
      "['locks', 'holding', 'burying', 'locking']\n",
      "\n",
      "Cluster 5\n",
      "['pleasence', 'hare', 'donald', 'pleasance', 'sutherland']\n",
      "\n",
      "Cluster 6\n",
      "['motifs', 'cues']\n",
      "\n",
      "Cluster 7\n",
      "['pauline', 'davidson', 'sadie']\n",
      "\n",
      "Cluster 8\n",
      "['overplayed', 'emotionless', 'overacted', 'unemotional']\n",
      "\n",
      "Cluster 9\n",
      "['raven', 'sheep']\n",
      "\n",
      "Cluster 10\n",
      "['precise', 'sparse', 'noticeable', 'rapid', 'muted', 'sporadic', 'jarring']\n",
      "\n",
      "Cluster 11\n",
      "['closet', 'beds', 'pool', 'attic', 'room', 'towel', 'backyard', 'bed', 'bedroom', 'flowers', 'bathroom', 'garage', 'classroom', 'mirror', 'kitchen', 'front', 'basement']\n",
      "\n",
      "Cluster 12\n",
      "['cohen', 'michael', 'sam', 'andrew', 'matheson', 'neil', 'labute', 'reiner']\n",
      "\n",
      "Cluster 13\n",
      "['tilly', 'pia', 'dolly', 'friel', 'dickinson', 'angie', 'heather']\n",
      "\n",
      "Cluster 14\n",
      "['nary', 'puddle', 'bucket', 'gaping', 'meter', 'lump']\n",
      "\n",
      "Cluster 15\n",
      "['bonding', 'mutual', 'friendships']\n",
      "\n",
      "Cluster 16\n",
      "['environment', 'system', 'state', 'economy', 'process']\n",
      "\n",
      "Cluster 17\n",
      "['eat', 'bury', 'kill', 'fend', 'feed', 'feeding']\n",
      "\n",
      "Cluster 18\n",
      "['vancouver', 'utah']\n",
      "\n",
      "Cluster 19\n",
      "['apache']\n"
     ]
    }
   ],
   "source": [
    "# Top 20 clusters\n",
    "for cluster in range(0,20):\n",
    "    print(\"\\nCluster %d\" % cluster) \n",
    "    words = [] #Finding words for that cluster \n",
    "    for key,value in word_centroid_map.items():\n",
    "        if(value==cluster):\n",
    "            words.append(key) \n",
    "    print(words)"
   ]
  },
  {
   "cell_type": "markdown",
   "metadata": {},
   "source": [
    "We can see that clusters are of varying quality. Most of them make sense"
   ]
  },
  {
   "cell_type": "markdown",
   "metadata": {},
   "source": [
    "At any rate,now we have a cluster (or \"centroid\") assignment for each word , and we can define a function to convert reviews into bags-of-centroids. This works just like Bag of Words but uses semantically related clusters instead of individual words. "
   ]
  },
  {
   "cell_type": "code",
   "execution_count": 129,
   "metadata": {
    "collapsed": true
   },
   "outputs": [],
   "source": [
    "def create_bag_of_centroids(wordlist,word_centroid_map):\n",
    "    #THe number of clusters is equal to the highest cluster index in word_centroid_map \n",
    "    num_centroids = max(word_centroid_map.values()) + 1 \n",
    "    \n",
    "    #Pre-allocate the bag of centroid vector (for speed) \n",
    "    bag_of_centroids = np.zeros(num_centroids,dtype = \"float32\") \n",
    "    \n",
    "    #Loop pver the the words in the review. If the word is in the vocabularly.\n",
    "    # Find which cluster it belongs to, and increment that cluster count by one. \n",
    "    \n",
    "    for word in wordlist:\n",
    "        if word in word_centroid_map:\n",
    "            index = word_centroid_map[word] \n",
    "            bag_of_centroids[index] +=1 \n",
    "    return bag_of_centroids\n",
    "            "
   ]
  },
  {
   "cell_type": "markdown",
   "metadata": {},
   "source": [
    "The Function above will give us a numy array for each review,each with a number of features equal to the number of clusters. Finally we create bags of centroid for our training and test set, then train a random forest and extract results"
   ]
  },
  {
   "cell_type": "code",
   "execution_count": 130,
   "metadata": {
    "collapsed": true
   },
   "outputs": [],
   "source": [
    "# Pre-allocate an array for the training set bags of centroids (for speed)\n",
    "train_centroids = np.zeros( (train[\"review\"].size, num_clusters), \\\n",
    "    dtype=\"float32\" )\n",
    "\n",
    "# Transform the training set reviews into bags of centroids\n",
    "counter = 0\n",
    "for review in clean_train_reviews:\n",
    "    train_centroids[counter] = create_bag_of_centroids( review, \\\n",
    "        word_centroid_map )\n",
    "    counter += 1\n",
    "\n",
    "# Repeat for test reviews \n",
    "test_centroids = np.zeros(( test[\"review\"].size, num_clusters), \\\n",
    "    dtype=\"float32\" )\n",
    "\n",
    "counter = 0\n",
    "for review in clean_test_reviews:\n",
    "    test_centroids[counter] = create_bag_of_centroids( review, \\\n",
    "        word_centroid_map )\n",
    "    counter += 1\n"
   ]
  },
  {
   "cell_type": "code",
   "execution_count": 131,
   "metadata": {
    "collapsed": false
   },
   "outputs": [
    {
     "name": "stdout",
     "output_type": "stream",
     "text": [
      "Fitting a random forest to labeled training data...\n"
     ]
    }
   ],
   "source": [
    "# Fit a random forest and extract predictions \n",
    "forest = RandomForestClassifier()\n",
    "\n",
    "# Fitting the forest may take a few minutes\n",
    "print(\"Fitting a random forest to labeled training data...\")\n",
    "forest = forest.fit(train_centroids,train[\"sentiment\"])\n",
    "result = forest.predict(test_centroids)\n",
    "\n",
    "# Write the test results \n",
    "output = pd.DataFrame(data={\"id\":test[\"id\"], \"sentiment\":result})\n",
    "output.to_csv( \"rf_bagofcentroids.csv\", index=False, quoting=3 ) "
   ]
  },
  {
   "cell_type": "markdown",
   "metadata": {},
   "source": [
    "![](./data/rf_bagof_centroids.png)"
   ]
  },
  {
   "cell_type": "code",
   "execution_count": 133,
   "metadata": {
    "collapsed": false
   },
   "outputs": [
    {
     "name": "stdout",
     "output_type": "stream",
     "text": [
      "Fitting a random forest to labeled training data...\n"
     ]
    }
   ],
   "source": [
    "# Fit a random forest and extract predictions \n",
    "lr = LogisticRegression()\n",
    "\n",
    "# Fitting the forest may take a few minutes\n",
    "print(\"Fitting a random forest to labeled training data...\")\n",
    "lr = lr.fit(train_centroids,train[\"sentiment\"])\n",
    "result = lr.predict(test_centroids)\n",
    "\n",
    "# Write the test results \n",
    "output = pd.DataFrame(data={\"id\":test[\"id\"], \"sentiment\":result})\n",
    "output.to_csv( \"lr_bagofcentroids.csv\", index=False, quoting=3 ) "
   ]
  },
  {
   "cell_type": "markdown",
   "metadata": {},
   "source": [
    "![](./data/lr_bagof_centroids.png) "
   ]
  },
  {
   "cell_type": "code",
   "execution_count": null,
   "metadata": {
    "collapsed": true
   },
   "outputs": [],
   "source": [
    "#GBM\n",
    "from sklearn.ensemble import GradientBoostingClassifier\n",
    "\n",
    "gbm =GradientBoostingClassifier()\n",
    "gbm=gbm.fit(train_centroids,train[\"sentiment\"])\n",
    "\n",
    "result= gbm.predict(test_centroids) \n",
    "output1 = pd.DataFrame( data={\"id\":test[\"id\"], \"sentiment\":result} )\n",
    "output1.to_csv( \"gbm_bagofcentroids.csv\", index=False, quoting=3)  "
   ]
  },
  {
   "cell_type": "code",
   "execution_count": 106,
   "metadata": {
    "collapsed": true
   },
   "outputs": [],
   "source": [
    "#XGB\n",
    "import xgboost as xgb\n",
    "from xgboost.sklearn import XGBClassifier\n",
    "xgb =  XGBClassifier()\n",
    "xgb.fit(train_centroids,train[\"sentiment\"])\n",
    "result1 = xgb.predict(test_centroids) \n",
    "output1 = pd.DataFrame( data={\"id\":test[\"id\"], \"sentiment\":result1} )\n",
    "output1.to_csv( \"xgb_bagofcentroids.csv\", index=False, quoting=3) "
   ]
  },
  {
   "cell_type": "code",
   "execution_count": 135,
   "metadata": {
    "collapsed": false
   },
   "outputs": [
    {
     "name": "stdout",
     "output_type": "stream",
     "text": [
      "Once deleted, variables cannot be recovered. Proceed (y/[n])? y\n"
     ]
    }
   ],
   "source": [
    "%reset"
   ]
  },
  {
   "cell_type": "code",
   "execution_count": null,
   "metadata": {
    "collapsed": true
   },
   "outputs": [],
   "source": []
  }
 ],
 "metadata": {
  "kernelspec": {
   "display_name": "Python [Root]",
   "language": "python",
   "name": "Python [Root]"
  },
  "language_info": {
   "codemirror_mode": {
    "name": "ipython",
    "version": 3
   },
   "file_extension": ".py",
   "mimetype": "text/x-python",
   "name": "python",
   "nbconvert_exporter": "python",
   "pygments_lexer": "ipython3",
   "version": "3.5.2"
  }
 },
 "nbformat": 4,
 "nbformat_minor": 0
}
